{
 "cells": [
  {
   "cell_type": "code",
   "execution_count": 1,
   "id": "70a826e2-1ea1-4638-9375-5047fc0846db",
   "metadata": {},
   "outputs": [
    {
     "name": "stdin",
     "output_type": "stream",
     "text": [
      "Enter customer's name:  Jon\n"
     ]
    },
    {
     "name": "stdout",
     "output_type": "stream",
     "text": [
      "Enter the amount and quantity\n"
     ]
    },
    {
     "name": "stdin",
     "output_type": "stream",
     "text": [
      "enter the amount:  25\n",
      "enter the quantity:  2\n",
      "Do you want to add more items?(yes/no):  no\n"
     ]
    },
    {
     "name": "stdout",
     "output_type": "stream",
     "text": [
      "----------------------------------------\n",
      "Name:  Jon\n",
      "Amount to be paid:  50.0\n",
      "----------------------------------------\n",
      "***Happy Shopping***\n"
     ]
    },
    {
     "name": "stdin",
     "output_type": "stream",
     "text": [
      "Do you want to go to next customer?(yes/no):  no\n"
     ]
    }
   ],
   "source": [
    "#Write a program to create a billing system at supermarket.\n",
    "while True:\n",
    "    Name = input(\"Enter customer's name: \")\n",
    "    total = 0\n",
    "    while True:\n",
    "        print(\"Enter the amount and quantity\")\n",
    "        amount = float(input(\"enter the amount: \"))\n",
    "        quantity = float(input(\"enter the quantity: \"))\n",
    "        total += amount*quantity\n",
    "        repeat=input(\"Do you want to add more items?(yes/no): \")\n",
    "        if repeat == \"NO\" or repeat == \"no\" or repeat == \"No\":\n",
    "            break\n",
    "    print(\"-\"*40)\n",
    "    print(\"Name: \",Name)\n",
    "    print(\"Amount to be paid: \", total)\n",
    "    print(\"-\"*40)\n",
    "    print(\"***Happy Shopping***\")\n",
    "    repeat1 = input(\"Do you want to go to next customer?(yes/no): \")\n",
    "    if repeat1 == \"no\" or repeat1 == \"NO\" or repeat1 == \"No\":\n",
    "             break"
   ]
  }
 ],
 "metadata": {
  "kernelspec": {
   "display_name": "Python 3 (ipykernel)",
   "language": "python",
   "name": "python3"
  },
  "language_info": {
   "codemirror_mode": {
    "name": "ipython",
    "version": 3
   },
   "file_extension": ".py",
   "mimetype": "text/x-python",
   "name": "python",
   "nbconvert_exporter": "python",
   "pygments_lexer": "ipython3",
   "version": "3.12.4"
  }
 },
 "nbformat": 4,
 "nbformat_minor": 5
}
